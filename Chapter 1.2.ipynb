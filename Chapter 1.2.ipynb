{
 "cells": [
  {
   "cell_type": "code",
   "execution_count": 1,
   "metadata": {},
   "outputs": [],
   "source": [
    "%load_ext autoreload\n",
    "%autoreload 2"
   ]
  },
  {
   "cell_type": "code",
   "execution_count": 2,
   "metadata": {},
   "outputs": [],
   "source": [
    "from itertools import combinations\n",
    "import numpy as np\n",
    "np.random.seed(37)\n",
    "%matplotlib inline"
   ]
  },
  {
   "cell_type": "code",
   "execution_count": 3,
   "metadata": {},
   "outputs": [],
   "source": [
    "from utils import *"
   ]
  },
  {
   "cell_type": "markdown",
   "metadata": {},
   "source": [
    "# 1\n",
    "<font color='red' size=5>\n",
    "Let Ω = {a, b, c} be a sample space. Let m(a) = 1/2, m(b) = 1/3, and\n",
    "m(c) = 1/6. Find the probabilities for all eight subsets of Ω.</font>"
   ]
  },
  {
   "cell_type": "code",
   "execution_count": 5,
   "metadata": {},
   "outputs": [
    {
     "name": "stdout",
     "output_type": "stream",
     "text": [
      "P([a]) = 0.5\n",
      "P([b]) = 0.3\n",
      "P([c]) = 0.2\n",
      "P([a,b]) = 0.8\n",
      "P([a,c]) = 0.7\n",
      "P([b,c]) = 0.5\n",
      "P([a,b,c]) = 1.0\n"
     ]
    }
   ],
   "source": [
    "def e1():\n",
    "    m = {'a': 1/2, 'b':1/3, 'c':1/6}\n",
    "    all_subsets = [item for i in range(1,4,1) for item in combinations(['a', 'b', 'c'], i)]\n",
    "    for subset in all_subsets:\n",
    "        p = sum([m[event] for event in subset])\n",
    "        print('P([{}]) = {:.1f}'.format(','.join(subset), p))\n",
    "e1()"
   ]
  },
  {
   "cell_type": "markdown",
   "metadata": {},
   "source": [
    "<font color='green' face='bold' size=5>\n",
    "The probability of a subset $X$ is $\\sum_{e} m(e); e \\in X$ where $m$ is the distribution function\n",
    "</font>"
   ]
  },
  {
   "cell_type": "markdown",
   "metadata": {},
   "source": [
    "# 2 and 3\n",
    "<font color='red' size=5>\n",
    "Give a possible sample space Ω for each of the following experiments. For which of the cases in Exercise 2 would it be reasonable to assign the\n",
    "uniform distribution function?\n",
    "</font>"
   ]
  },
  {
   "cell_type": "markdown",
   "metadata": {},
   "source": [
    "Let $\\Phi$ denote the sample space for all of the examples"
   ]
  },
  {
   "cell_type": "markdown",
   "metadata": {},
   "source": [
    "### 2.1 and 3.1\n",
    "<font color='red' size=3>\n",
    "An election decides between two candidates A and B.\n",
    "</font>"
   ]
  },
  {
   "cell_type": "markdown",
   "metadata": {},
   "source": [
    "<font color='green' face='bold' size=5>\n",
    "There are only two events, $A$ denoting candidate A wins and $B$ denoting candidate B wins. Therefore, $\\Phi = \\{A, B\\}$\n",
    "</font>"
   ]
  },
  {
   "cell_type": "markdown",
   "metadata": {},
   "source": [
    "<font color='green' face='bold' size=5>\n",
    "Since candidates in an election are seldom equally likely to win, Therefore it would not be reasonable to assign a uniform distribution to $\\Phi$\n",
    "</font>"
   ]
  },
  {
   "cell_type": "markdown",
   "metadata": {},
   "source": [
    "### 2.2 and 3.2\n",
    "<font color='red' size=3>\n",
    "A two-sided coin is tossed.\n",
    "</font>"
   ]
  },
  {
   "cell_type": "markdown",
   "metadata": {},
   "source": [
    "<font color='green' face='bold' size=5>\n",
    "There are only two events:\n",
    "    <li>$H$ : heads side is up after tossing the coin </li>\n",
    "    <li>$T$ : tails side is up after tossing the coin </li>\n",
    "Therefore $\\Phi = \\{H,T\\}$\n",
    "</font>"
   ]
  },
  {
   "cell_type": "markdown",
   "metadata": {},
   "source": [
    "<font color='green' face='bold' size=5>\n",
    "In afair coin toss both sides are equally likely, therefore $\\Phi$ can be assigned a uniform distribution.\n",
    "</font>"
   ]
  },
  {
   "cell_type": "markdown",
   "metadata": {},
   "source": [
    "### 2.3 and 3.3\n",
    "<font color='red' size=3>\n",
    "A student is asked for the month of the year and the day of the week on\n",
    "which her birthday falls.\n",
    "</font>"
   ]
  },
  {
   "cell_type": "markdown",
   "metadata": {},
   "source": [
    "<font color='green' face='bold' size=5>\n",
    "The outcome can be mapped by the combination of outcomes of 2 random variables:\n",
    "    <li>$M$ : $\\{i ; i \\in [1,12], i \\in integers \\}$</li>\n",
    "    <li>$W$ : $\\{j ; j \\in [1,7], j \\in integers \\}$</li>\n",
    "The outcome $\\Phi$ will be $\\{(i,j); i \\in [1,12], j \\in [1,7] | i,j \\in integers\\}$, and it will have $12 * 7 = 84$ possible outcomes, where $(i,j)$ is an ordered pair \n",
    "</font>"
   ]
  },
  {
   "cell_type": "markdown",
   "metadata": {},
   "source": [
    "<h4 align=\"center\">  The number of births for each month of 2006</h4>\n",
    "\n",
    "![The number of births for each month of 2006. (Image credit: CDC.)](https://cdn.mos.cms.futurecdn.net/VKfFoVGPD26BebNmxsBWF3-650-80.jpg)\n",
    "\n",
    "<h7 align=\"center\">credit: https://www.livescience.com/32728-baby-month-is-almost-here-.html</h7>\n"
   ]
  },
  {
   "cell_type": "markdown",
   "metadata": {},
   "source": [
    "\n",
    "<font color='green' face='bold' size=5>\n",
    "The number of births in the image above is not the same for each month, it shows that birthdays are uniformly distributed for each month. Therefore $\\Phi$ can not be assigned a uniform distribution.\n",
    "</font>"
   ]
  },
  {
   "cell_type": "markdown",
   "metadata": {},
   "source": [
    "### 2.4 and 3.4\n",
    "<font color='red' size=3>\n",
    "A student is chosen at random from a class of ten students\n",
    "</font>"
   ]
  },
  {
   "cell_type": "markdown",
   "metadata": {},
   "source": [
    "<font color='green' face='bold' size=5>\n",
    "The outcome $\\Phi$ will be $\\{i; i \\in [1,10] | i \\in integers\\}$\n",
    "</font>"
   ]
  },
  {
   "cell_type": "markdown",
   "metadata": {},
   "source": [
    "<font color='green' face='bold' size=5>\n",
    "Since the students are chosen at random, every student is equaly likely to be chosen. Therefore, $\\Phi$ can be assigned a uniform distribution.\n",
    "</font>"
   ]
  },
  {
   "cell_type": "markdown",
   "metadata": {},
   "source": [
    "### 2.5 and 3.5\n",
    "<font color='red' size=3>\n",
    "You receive a grade in this course.\n",
    "</font>"
   ]
  },
  {
   "cell_type": "markdown",
   "metadata": {},
   "source": [
    "<font color='green' face='bold' size=5>\n",
    "The outcome $\\Phi$ will be $\\{A+, A, B+, B, C+, C, D\\}$\n",
    "</font>"
   ]
  },
  {
   "cell_type": "markdown",
   "metadata": {},
   "source": [
    "<font color='green' face='bold' size=5>\n",
    "There can not be a case, where a student studies rigrously and gets a D (it will be very rare if this happens). This shows that the grades have an underlying cause and will not be random. A student studying more is more likely to get a good grade. Therefore, the grade that a student gets in this course can not be assigned a uniform distribution.\n",
    "</font>"
   ]
  },
  {
   "cell_type": "markdown",
   "metadata": {},
   "source": [
    "# 4 and 5\n",
    "<font color='red' size=5>\n",
    "Describe in words the events specified by the following subsets of\n",
    "Ω = {HHH, HHT, HT H, HT T, T HH, T HT, T T H, T T T }. Find their probabilities.</font>"
   ]
  },
  {
   "cell_type": "markdown",
   "metadata": {},
   "source": [
    "### 4.1 and 5.1\n",
    "<font color='red' size=3>\n",
    "E = {HHH,HHT,HTH,HTT}\n",
    "</font>"
   ]
  },
  {
   "cell_type": "markdown",
   "metadata": {},
   "source": [
    "<font color='green' face='bold' size=5>\n",
    "Getting heads on the first toss. $P(E) =$ 4/8 = 0.5\n",
    "</font>"
   ]
  },
  {
   "cell_type": "markdown",
   "metadata": {},
   "source": [
    "### 4.2 and 5.2\n",
    "<font color='red' size=3>\n",
    "E = {HHH,TTT}\n",
    "</font>"
   ]
  },
  {
   "cell_type": "markdown",
   "metadata": {},
   "source": [
    "<font color='green' face='bold' size=5>\n",
    "Getting same face on all coins. $P(E) = 2/8 = 0.25$\n",
    "</font>"
   ]
  },
  {
   "cell_type": "markdown",
   "metadata": {},
   "source": [
    "### 4.3\n",
    "<font color='red' size=3>\n",
    "E = {HHT,HTH,THH}\n",
    "</font>"
   ]
  },
  {
   "cell_type": "markdown",
   "metadata": {},
   "source": [
    "<font color='green' face='bold' size=5>\n",
    "Getting only one tails. $P(E) =$ 3/8 = 0.375\n",
    "</font>"
   ]
  },
  {
   "cell_type": "markdown",
   "metadata": {},
   "source": [
    "### 4.3\n",
    "<font color='red' size=3>\n",
    "E = {HHT,HTH,HTT,THH,THT,TTH,TTT}\n",
    "</font>"
   ]
  },
  {
   "cell_type": "markdown",
   "metadata": {},
   "source": [
    "<font color='green' face='bold' size=5>\n",
    "Getting at least one tails. $P(E) =$ 7/8 = 0.875\n",
    "</font>"
   ]
  },
  {
   "cell_type": "markdown",
   "metadata": {},
   "source": [
    "# 6\n",
    "<font color='red' size=5>\n",
    "A die is loaded in such a way that the probability of each face turning up\n",
    "is proportional to the number of dots on that face. (For example, a six is\n",
    "three times as probable as a two.) What is the probability of getting an even\n",
    "number in one throw?\n",
    "</font>"
   ]
  },
  {
   "cell_type": "markdown",
   "metadata": {},
   "source": [
    "<font color='green' face='bold' size=5>\n",
    "Let $m$ be the distribution function. \n",
    "    \n",
    "From the explanation $m$ can be defined as, $m(i) = i*p; i \\in \\{1,2,3,4,5,6\\}$, where $p =$ probability of getting a 1 on the die.\n",
    "\n",
    "Since, $\\sum_{i \\in \\{1,2,3,4,5,6\\}}{m(i)} = 1$. Therefore, $p*\\sum_{i \\in \\{1,2,3,4,5,6\\}}{i} = 1 \\implies p = 1/21$\n",
    "\n",
    "Let $E$ be the event defined as getting even number in one throw. Therefore $P(E) = \\sum_{i \\in \\{2,4,6\\}}{m(i)}$\n",
    "\n",
    "$\\implies P(E) =$ (1/21) * (2+4+6) = 12/21 \n",
    "</font>"
   ]
  },
  {
   "cell_type": "markdown",
   "metadata": {},
   "source": [
    "# 7\n",
    "<font color='red' size=5>\n",
    "Let A and B be events such that P (A ∩ B) = 1/4, P ( Ã) = 1/3, and P (B) =\n",
    "1/2. What is P (A ∪ B)?\n",
    "</font>"
   ]
  },
  {
   "cell_type": "markdown",
   "metadata": {},
   "source": [
    "<font color='green' face='bold' size=5>\n",
    "$P(\\widetilde{A}) = 1/3 \\implies P(A) = 2/3$\n",
    "\n",
    "$P(A \\cup B) = P(A) + P(B) - P(A \\cap B) = 2/3 + 1/2 - 1/4 = 11/12$\n",
    "</font>"
   ]
  },
  {
   "cell_type": "markdown",
   "metadata": {},
   "source": [
    "# 8\n",
    "<font color='red' size=5>\n",
    "A student must choose one of the subjects, art, geology, or psychology, as an\n",
    "elective. She is equally likely to choose art or psychology and twice as likely\n",
    "to choose geology. What are the respective probabilities that she chooses art,\n",
    "geology, and psychology?\n",
    "</font>"
   ]
  },
  {
   "cell_type": "markdown",
   "metadata": {},
   "source": [
    "<font color='green' face='bold' size=5>\n",
    "A = art, P = psychology, G = geology\n",
    "    \n",
    "Let $\\Phi$ be the sample space. Then $\\Phi = \\{A, P, G\\}$.\n",
    "\n",
    "$P(A) = P(P) = p \\implies P(G) = 2*p$\n",
    "\n",
    "$\\sum_{e \\in \\{A, P, G\\}}{P(e)} = 1 \\implies p + p + 2p = 1 \\implies p = 1/4 $\n",
    "    \n",
    "$P(P) = 1/4, P(A) = 1/4$ and $P(G) = 1/2$\n",
    "</font>"
   ]
  },
  {
   "cell_type": "markdown",
   "metadata": {},
   "source": [
    "# 9\n",
    "<font color='red' size=5>\n",
    "A student must choose exactly two out of three electives: art, French, and\n",
    "mathematics. He chooses art with probability 5/8, French with probability\n",
    "5/8, and art and French together with probability 1/4. What is the probability\n",
    "that he chooses mathematics? What is the probability that he chooses either\n",
    "art or French?\n",
    "</font>"
   ]
  },
  {
   "cell_type": "markdown",
   "metadata": {},
   "source": [
    "<font color='green' face='bold' size=5>\n",
    "A = art, F = French, M = Maths.\n",
    "      \n",
    "Let $\\Phi$ be the sample space. Then $\\Phi = \\{AF, AM, FM\\}$. Where $ij; i,j \\in \\{A, F, M\\}$ denotes $i$ together with $j$.\n",
    "    \n",
    "Let $E$ represent the event of choosing maths, this will be same as choosing one of the subject as maths. Therefore, $E = \\{FM, AM\\}$. $P(E) = 1 - P(AF) = 1 - 1/4 = 3/4$.\n",
    "\n",
    "$P($either art or French$) = P(A \\cup F) = P(A) + P(F) - P(A \\cap F) = 5/8 + 5/8 - 1/4 = 4/4 = 1$\n",
    "</font>"
   ]
  },
  {
   "cell_type": "markdown",
   "metadata": {},
   "source": [
    "# 10\n",
    "<font color='red' size=5>\n",
    "For a bill to come before the president of the United States, it must be passed\n",
    "by both the House of Representatives and the Senate. Assume that, of the\n",
    "bills presented to these two bodies, 60 percent pass the House, 80 percent\n",
    "pass the Senate, and 90 percent pass at least one of the two. Calculate the\n",
    "probability that the next bill presented to the two groups will come before the\n",
    "president.\n",
    "</font>"
   ]
  },
  {
   "cell_type": "markdown",
   "metadata": {},
   "source": [
    "<font color='green' face='bold' size=5>\n",
    "Let $A$ denote the event representing successful passing of the bill from the House\n",
    "    \n",
    "Let $B$ denote the event representing successful passing of the bill from the Senate\n",
    "\n",
    "$P(A) = 0.6, P(B) = 0.8$ and $P(A \\cup B) = 0.9$\n",
    "\n",
    "The bill is presented to the president if it passes from both the bodies. For this to happen events $A$ and $B$ must occur simultaneously.\n",
    "\n",
    "$P(A \\cup B) = P(A) + P(B) - P(A \\cap B) \\implies P(A \\cap B) = P(A) + P(B) - P(A \\cup B)$\n",
    "\n",
    "$P(A \\cap B) = 0.6 + 0.8 - 0.9 = 0.5$\n",
    "\n",
    "Therefore, a bill is presented to the president 50% of the times.\n",
    "</font>"
   ]
  },
  {
   "cell_type": "markdown",
   "metadata": {},
   "source": [
    "# 11\n",
    "<font color='red' size=5>\n",
    "What odds should a person give in favor of the following events?\n",
    "</font>\n"
   ]
  },
  {
   "cell_type": "markdown",
   "metadata": {},
   "source": [
    "### 11.1\n",
    "<font color='red' size=3>\n",
    "A card chosen at random from a 52-card deck is an ace\n",
    "</font>"
   ]
  },
  {
   "cell_type": "markdown",
   "metadata": {},
   "source": [
    "<font color='green' face='bold' size=5>\n",
    "Let $E$ be the event that the chosen card is an ACE, then $P(E) = 4/52$. Let's assign r to s odds that this event happens.\n",
    "    \n",
    "Since, $P(E) = r/(r+s)$ $\\implies 4r + 4s = 52r \\implies r + s = 13r \\implies r/s = 1/12$\n",
    "\n",
    "Therefore, one should be willing to assign 1 to 12 odds of chosing an ACE from the deck\n",
    "\n",
    "</font>"
   ]
  },
  {
   "cell_type": "markdown",
   "metadata": {},
   "source": [
    "### 11.2\n",
    "<font color='red' size=3>\n",
    "Two heads will turn up when a coin is tossed twice\n",
    "</font>"
   ]
  },
  {
   "cell_type": "markdown",
   "metadata": {},
   "source": [
    "<font color='green' face='bold' size=5>\n",
    "The sample space $\\Phi = \\{HH, HT, TT, TH\\}$\n",
    "    \n",
    "The desirable event $E = \\{HH\\} \\implies P(E) = 1/4$\n",
    "\n",
    "Using the same logic as above, $r + s = 4r \\implies r/s = 1/3$\n",
    "\n",
    "Therefore, one should be willing to assign 1 to 3 odds of getting 2 heads when a coin is tossed twice.\n",
    "\n",
    "</font>"
   ]
  },
  {
   "cell_type": "markdown",
   "metadata": {},
   "source": [
    "### 11.3\n",
    "<font color='red' size=3>\n",
    "Boxcars (two sixes) will turn up when two dice are rolled\n",
    "</font>"
   ]
  },
  {
   "cell_type": "markdown",
   "metadata": {},
   "source": [
    "<font color='green' face='bold' size=5>\n",
    "The sample space $\\Phi = \\{(i,j); i,j < 7\\}$. Where $(i,j)$ is an ordered pair. Since for each possible value of $i$ (out of 6) there are 6 possible values of $j$, therefore length($\\Phi$) = 36\n",
    "    \n",
    "The desirable event $E = \\{(6,6)\\} \\implies P(E) = 1/36$\n",
    "\n",
    "Using the same logic as above, $r + s = 36r \\implies r/s = 1/35$\n",
    "\n",
    "Therefore, one should be willing to assign 1 to 35 odds of getting double sixes when two dice are rolled\n",
    "</font>"
   ]
  },
  {
   "cell_type": "markdown",
   "metadata": {},
   "source": [
    "# 12\n",
    "<font color='red' size=5>\n",
    "You offer 3 : 1 odds that your friend Smith will be elected mayor of your city.\n",
    "What probability are you assigning to the event that Smith wins?\n",
    "</font>\n"
   ]
  },
  {
   "cell_type": "markdown",
   "metadata": {},
   "source": [
    "<font color='green' face='bold' size=5>\n",
    "For r to s odds the probability of the event is given by $P(E) = r/(r+s) \\implies P(E) = 3/4$\n",
    "\n",
    "Therefore, Smith should win the election with 3/4 probability\n",
    "</font>"
   ]
  },
  {
   "cell_type": "markdown",
   "metadata": {},
   "source": [
    "# 13\n",
    "<font color='red' size=5>\n",
    "In a horse race, the odds that Romance will win are listed as 2 : 3 and that\n",
    "Downhill will win are 1 : 2. What odds should be given for the event that\n",
    "either Romance or Downhill wins?\n",
    "</font>\n"
   ]
  },
  {
   "cell_type": "markdown",
   "metadata": {},
   "source": [
    "<font color='green' face='bold' size=5>\n",
    "Let $R$ be the event that only Romance wins the race and $D$ be the event that only Downhill wins the race. The word \"only\" in the previous statement plays a crucial role since it clearly specifies that either horse didn't win simultaneously with the other. Therefore, the probability that both Romance and Downhill win simultaneously will be 0 \n",
    "\n",
    "For r to s odds the probability of the event is given by $P(E) = r/(r+s) \\implies P(R) = 2/5$ and $P(D) = 1/3$\n",
    "\n",
    "Since, $P(A \\cup B) = P(A) + P(B) - P(A \\cap B)$. Therefore, $P(R \\cup D) = P(R) + P(D) - P(R \\cap D) = 1/3 + 2/5 - 0 = 11/15 \\implies$ that the odds of $R \\cup D$ occuring can be found by the equation, $11r + 11s = 15r \\implies r/s = 11/4$\n",
    "\n",
    "Therefore, the one should be willling to assign 11 to 4 odds that eighter horse wins\n",
    "</font>"
   ]
  },
  {
   "cell_type": "markdown",
   "metadata": {},
   "source": [
    "# 14\n",
    "<font color='red' size=5>\n",
    "Let X be a random variable with distribution function $m_{X}$(x) defined by\n",
    "$m_{X}$(−1) = 1/5, $m_{X}$(0) = 1/5, $m_{X}$(1) = 2/5, $m_{X}$(2) = 1/5 .\n",
    "</font>\n"
   ]
  },
  {
   "cell_type": "markdown",
   "metadata": {},
   "source": [
    "### 14.1\n",
    "<font color='red' size=3>\n",
    "Let Y be the random variable defined by the equation Y = X + 3. Find\n",
    "the distribution function $m_{Y}$(y) of Y .\n",
    "</font>"
   ]
  },
  {
   "cell_type": "markdown",
   "metadata": {},
   "source": [
    "<font color='green' face='bold' size=5>\n",
    "Let $E = \\{-1, 0, 1, 2\\}$. Since $\\sum_{i \\in E}{P_{X}(i)} = 1$, the set $E$ should be the sample space of $X$. $Y= X + 3$, therefore $Y$ can only take values $\\{-1+3, 0+3, 1+3, 2+3\\} \\implies$ sample space of $Y = \\{2, 3, 4, 5\\}$. \n",
    "    \n",
    "$m_{Y}(y=k) = m_{X}(x= k-3)$. Therefore $ m_{Y} = \\left\\{\n",
    "\t\\begin{array}{ll}\n",
    "\t\t1/5  & \\mbox{if } y = 2 \\\\\n",
    "        1/5  & \\mbox{if } y = 3 \\\\\n",
    "        2/5  & \\mbox{if } y = 4 \\\\\n",
    "        1/5  & \\mbox{if } y = 5 \\\\\n",
    "\t\\end{array}\n",
    "\\right.$\n",
    "</font>"
   ]
  },
  {
   "cell_type": "markdown",
   "metadata": {},
   "source": [
    "### 14.2\n",
    "<font color='red' size=3>\n",
    "Let Z be the random variable defined by the equation $Z = X^2$ . Find the\n",
    "distribution function $m_{Z}(z)$ of $Z$.\n",
    "</font>"
   ]
  },
  {
   "cell_type": "markdown",
   "metadata": {},
   "source": [
    "<font color='green' face='bold' size=5>\n",
    "$Z= X^2$, therefore $Z$ can only take values $\\{-1^2, 0^2, 1^2, 2^3\\} \\implies$ sample space of $Z = \\{0, 1, 4\\}$. \n",
    "    \n",
    "$m_{Z}(z=k) = m_{X}(x^2= k)$. Therefore $ m_{Y} = \\left\\{\n",
    "\t\\begin{array}{ll}\n",
    "\t\tm_{X}(0) & \\mbox{if } z = 0 \\\\\n",
    "        m_{X}(-1) + m_{X}(1)  & \\mbox{if } z = 1 \\\\\n",
    "        m_{X}(2)  & \\mbox{if } z = 4 \\\\\n",
    "\t\\end{array}\n",
    "\\right.$\n",
    "\n",
    "$m_{Z}(1) = m_{X}(-1) + m_{X}(1)$ since $X = -1$ and $X = 1$ are mutually exclusive events.\n",
    "\n",
    "Therefore, $m_{Y} = \\left\\{\n",
    "\t\\begin{array}{ll}\n",
    "\t\t1/5 & \\mbox{if } z = 0 \\\\\n",
    "        3/5  & \\mbox{if } z = 1 \\\\\n",
    "        1/5  & \\mbox{if } z = 4 \\\\\n",
    "\t\\end{array}\n",
    "\\right.$\n",
    "</font>"
   ]
  },
  {
   "cell_type": "markdown",
   "metadata": {},
   "source": [
    "# 15\n",
    "<font color='red' size=5>\n",
    "John and Mary are taking a mathematics course. The course has only three\n",
    "grades: A, B, and C. The probability that John gets a B is .3. The probability\n",
    "that Mary gets a B is .4. The probability that neither gets an A but at least\n",
    "one gets a B is .1. What is the probability that at least one gets a B but\n",
    "neither gets a C?\n",
    "</font>"
   ]
  },
  {
   "cell_type": "markdown",
   "metadata": {},
   "source": [
    "<font color='green' face='bold' size=5>\n",
    "Let $\\Phi$ be the sample space. Then $\\Phi = \\{(j,m); j,m \\in \\{A,B,C\\}\\}$. Where $(j,m)$ is an ordered pair and $j$ denotes the grade scored by John and $m$ denotes the grade scored by Mary. Length($\\Phi$) = 9 since for each posible value of j (3 in total) there are 3 possible values for m. Let $f$ be the distribution function over $\\Phi$\n",
    "    \n",
    "Let $E1$ be the event that John scores a B, then $E1 = \\{(B,A), (B,B), (B,C)\\}$, in the problem statement $P(E1) = 0.3 \\implies \\sum_{i \\in E1}{f(i)} = 0.3$\n",
    "\n",
    "Let $E2$ be the event that Mary scores a B, then $E2 = \\{(A,B), (B,B), (C,B)\\}$, in the problem statement $P(E2) = 0.4 \\implies \\sum_{i \\in E2}{f(i)} = 0.4$\n",
    "\n",
    "Let $E3$ be the event that neither gets an A but atleast one gets a B, then $E3 = \\{(B,B), (C,B), (B,C)\\}$, in the problem statement $P(E3) = 0.1 \\implies \\sum_{i \\in E3}{f(i)} = 0.1$\n",
    "\n",
    "Let $G$ be the event that neither gets a C but atleast one gets a B, then $G = \\{(B,B), (A,B), (B,A)\\}$. This event can also be defined as $E1 + E2 - E3 \\implies P(G) = P(E1) + P(E2) - P(E3) = 0.3 + 0.4 - 0.1 = 0.6$\n",
    "\n",
    "\n",
    "\n",
    "    \n",
    "</font>"
   ]
  },
  {
   "cell_type": "markdown",
   "metadata": {},
   "source": [
    "# 16\n",
    "<font color='red' size=5>\n",
    "In a fierce battle, not less than 70 percent of the soldiers lost one eye, not less\n",
    "than 75 percent lost one ear, not less than 80 percent lost one hand, and not less than 85 percent lost one leg. What is the minimal possible percentage of\n",
    "those who simultaneously lost one ear, one eye, one hand, and one leg?\n",
    "</font>"
   ]
  },
  {
   "cell_type": "markdown",
   "metadata": {},
   "source": [
    "<font color='green' face='bold' size=5>\n",
    "Not less than $x\\%$ translates to at least $x\\%$\n",
    "    \n",
    "Therefore, at least $70\\%$ lost one eye, at least $75\\%$ lost one ear, at least $80\\%$ lost one hand and at least $85\\%$ lost one leg.\n",
    "\n",
    "For simplicity lets assume that the total number of soldiers were 20. Therefore, at least $14$ lost one eye, at least $15$ lost one ear, at least $16$ lost one hand and at least $17$ lost one leg.\n",
    "\n",
    "Since at least 17 lost one leg, there are at most 3 who lost no leg. \n",
    "\n",
    "So minimum number of soldiers who lost a leg and a hand simultaneously are 13\n",
    "\n",
    "The minimum number of soldiers who lost one ear, one hand and one leg simultaneously are 8\n",
    "\n",
    "The minimum number of soldiers who lost one ear, one hand, one leg and one eye simultaneously are 2\n",
    "\n",
    "Therefore at least 2/20 = 0.1 = 10$\\%$ lost eye, ear, hand and leg simultaneously\n",
    "\n",
    "</font>"
   ]
  },
  {
   "cell_type": "markdown",
   "metadata": {},
   "source": [
    "# 17\n",
    "<font color='red' size=5>\n",
    "Assume that the probability of a “success” on a single experiment with n\n",
    "outcomes is 1/n. Let m be the number of experiments necessary to make it a\n",
    "favorable bet that at least one success will occur (see Exercise 1.1.5).\n",
    "</font>"
   ]
  },
  {
   "cell_type": "markdown",
   "metadata": {},
   "source": [
    "### 17.1\n",
    "<font color='red' size=3>\n",
    "Show that the probability that, in m trials, there are no successes is\n",
    "$(1 − 1/n)^{m}$\n",
    "</font>"
   ]
  },
  {
   "cell_type": "markdown",
   "metadata": {},
   "source": [
    "<font color='green' face='bold' size=5>\n",
    "$P($Success$)$ in one trial = $1/n \\implies P($not success$) = 1 - 1/n$\n",
    "    \n",
    "$P($no success in m trials$)$ = $P($not success$)^m = (1-1/n)^m$\n",
    "</font>"
   ]
  },
  {
   "cell_type": "markdown",
   "metadata": {},
   "source": [
    "### 17.2\n",
    "<font color='red' size=3>\n",
    "(de Moivre) Show that if $m = n \\log{2}$ then,\n",
    "    \n",
    "$\\lim_{n \\to \\infty} (1 − 1/n)^{m} = 1/2$\n",
    "</font>\n"
   ]
  },
  {
   "cell_type": "markdown",
   "metadata": {},
   "source": [
    "<font color='green' face='bold' size=5>\n",
    "Since $\\lim_{n \\to \\infty} (1 − 1/n)^{n} = -1$, Therefore $\\lim_{n \\to \\infty} (1 − 1/n)^{m} = e^{-log2} = e^{log{2^{-1}}} = 2^{-1} = 1/2$\n",
    "</font>"
   ]
  },
  {
   "cell_type": "markdown",
   "metadata": {},
   "source": [
    "### 17.1\n",
    "<font color='red' size=3>\n",
    "Would DeMoivre have been led to the correct answer for de Méré’s two\n",
    "bets if he had used his approximation?\n",
    "</font>"
   ]
  },
  {
   "cell_type": "markdown",
   "metadata": {},
   "source": [
    "## skipped for later"
   ]
  },
  {
   "cell_type": "markdown",
   "metadata": {},
   "source": [
    "# 18\n",
    "<font color='red' size=5>\n",
    "</font>"
   ]
  },
  {
   "cell_type": "markdown",
   "metadata": {},
   "source": [
    "### 18.1\n",
    "<font color='red' size=3>\n",
    "For events $A_{1}, ..., A_{n}$ , prove that $P (A_{1} \\cup ... \\cup A_{n} ) \\leq P(A_{1}) + · · · + P(A_{n}) $\n",
    "</font>"
   ]
  },
  {
   "cell_type": "markdown",
   "metadata": {},
   "source": [
    "<font color='green' face='bold' size=5>\n",
    "Let $E_{n} = A_{1} \\cup ... \\cup A_{n} \\implies E_{n} = E_{n-1} \\cup A_{n}$, with $E_{1} = A_{1}$. Therefore, $P(E_{n}) = P(E_{n-1}) + P(A_{n}) - P(E_{n-1} \\cap A_{n})$\n",
    "    \n",
    "Following the recursion relation it is easy to see that $P(E_{n}) = P(A_{1})+...+ P(A_{n}) - \\sum_{2}^{n}{P(E_{i-1} \\cap A_{i})}$\n",
    "\n",
    "Since $P(E_{i-1} \\cap A_{i}) \\geq 0 \\implies -P(E_{i-1} \\cap A_{i}) \\leq 0 \\implies - \\sum_{2}^{n}{P(E_{i-1} \\cap A_{i})} \\leq 0 \\implies P(A_{1})+...+ P(A_{n}) - \\sum_{2}^{n}{P(E_{i-1} \\cap A_{i})} \\leq P(A_{1})+...+ P(A_{n})$\n",
    "\n",
    "Therefore, $P(E_{n}) \\leq P(A_{1})+...+ P(A_{n}) \\implies P (A_{1} \\cup ... \\cup A_{n} ) \\leq P(A_{1}) + · · · + P(A_{n}) $\n",
    "\n",
    "</font>"
   ]
  },
  {
   "cell_type": "markdown",
   "metadata": {},
   "source": [
    "### 18.2\n",
    "<font color='red' size=3>\n",
    "For events $A$ and $B$, prove that $P (A \\cap B) \\geq P (A) + P (B) − 1$\n",
    "</font>"
   ]
  },
  {
   "cell_type": "markdown",
   "metadata": {},
   "source": [
    "<font color='green' face='bold' size=5>\n",
    "Since $P(A \\cup B) = P(A) + P(B) - P(A \\cap B) \\implies P(A \\cap B) = P(A) + P(B) - P(A \\cup B)$. Since $P(A \\cup B) \\leq 1 \\implies -P(A \\cup B) \\geq -1 \\implies P(A) + P(B) - P(A \\cup B) \\geq P(A) + P(B) - 1$\n",
    "    \n",
    "Therefore, $P (A \\cap B) \\geq P (A) + P (B) − 1$\n",
    "</font>"
   ]
  },
  {
   "cell_type": "markdown",
   "metadata": {},
   "source": [
    "# 19\n",
    "<font color='red' size=5>\n",
    "If A, B, and C are any three events, show that\n",
    "P (A ∪ B ∪ C)\n",
    "= P (A) + P (B) + P (C)\n",
    "− P (A ∩ B) − P (B ∩ C) − P (C ∩ A)\n",
    "+ P (A ∩ B ∩ C)\n",
    "</font>"
   ]
  },
  {
   "cell_type": "markdown",
   "metadata": {},
   "source": [
    "<font color='green' face='bold' size=5>\n",
    "Let \n",
    "    $$E = A \\cup B \\implies P(A \\cup B \\cup C) = P(E \\cup C) = P(E) + P(C) - P(E \\cap C) = \n",
    "    P(A \\cup B) + P(C) - P((A \\cup B) \\cap C) = \\\n",
    "    P(A) + P(B) + P(C) - P(A \\cap B) - P((A \\cap C) \\cup (B \\cap C)) = \\\n",
    "    P(A) + P(B) + P(C) - P(A \\cap B) - P(A \\cap C) - P(B \\cap C) + P(A \\cap C \\cap B \\cap C) = \n",
    "    P(A) + P(B) + P(C) - P(A \\cap B) - P(B \\cap C) - P(A \\cap C) + P(A \\cap B \\cap C)$$\n",
    "</font>"
   ]
  },
  {
   "cell_type": "markdown",
   "metadata": {},
   "source": [
    "# 20\n",
    "<font color='red' size=5>\n",
    "Explain why it is not possible to define a uniform distribution function (see\n",
    "Definition 1.3) on a countably infinite sample space. Hint: Assume m(ω) = a\n",
    "for all ω, where 0 ≤ a ≤ 1. Does m(ω) have all the properties of a distribution\n",
    "function?\n",
    "</font>"
   ]
  },
  {
   "cell_type": "markdown",
   "metadata": {},
   "source": [
    "<font color='green' face='bold' size=5>\n",
    "Let $\\Phi$ be countably infinite and let there be a uniform distribution function $m$ over $\\Phi$\n",
    "    \n",
    "By the defination of uniform distribution function $m(a) = b$ $\\forall a \\in \\Phi$ such that $0 \\leq b \\leq 1$\n",
    "\n",
    "If $b > 0 \\implies \\sum_{a \\in \\Phi}{m(a)} \\rightarrow \\infty $ which is a contradiction since $\\sum_{a \\in \\Phi}{m(a)} = 1$\n",
    "\n",
    "If $b = 0 \\implies \\sum_{a \\in \\Phi}{m(a)} = 0 $ which is a contradiction since $\\sum_{a \\in \\Phi}{m(a)} = 1$\n",
    "\n",
    "Therefore a uniform distribution function can not be defined over a countably infinite set\n",
    "\n",
    "\n",
    "</font>"
   ]
  },
  {
   "cell_type": "markdown",
   "metadata": {},
   "source": [
    "# 21\n",
    "<font color='red' size=5>\n",
    "In Example 1.13 find the probability that the coin turns up heads for the first\n",
    "time on the tenth, eleventh, or twelfth toss.\n",
    "</font>"
   ]
  },
  {
   "cell_type": "markdown",
   "metadata": {},
   "source": [
    "<font color='green' face='bold' size=5>\n",
    "Let $E_{i}$ be the event that heads turns up for the first time in i$^{th}$ toss. Then, $P(E_{i}) = (1/2)^{i-1} * 1/2 = (1/2)^{i}$\n",
    "    \n",
    "Therefore,\n",
    "$\n",
    "P(E_{10}) = (1/2)^{10}, P(E_{11}) = (1/2)^{11}, P(E_{12}) = (1/2)^{12}\n",
    "$\n",
    "</font>"
   ]
  },
  {
   "cell_type": "markdown",
   "metadata": {},
   "source": [
    "# 22\n",
    "<font color='red' size=5>\n",
    "A die is rolled until the first time that a six turns up. We shall see that the\n",
    "probability that this occurs on the nth roll is (5/6) n−1 · (1/6). Using this fact,\n",
    "describe the appropriate infinite sample space and distribution function for\n",
    "the experiment of rolling a die until a six turns up for the first time. Verify\n",
    "P\n",
    "that for your distribution function ω m(ω) = 1.\n",
    "</font>"
   ]
  },
  {
   "cell_type": "markdown",
   "metadata": {},
   "source": [
    "<font color='green' face='bold' size=5>\n",
    "Let $N$ be the set of all Natural Numbers\n",
    "Let $E_{i} = i$ be the event that 6 comes up on the i$^{th}$ roll. The sample space would contain the events $E_{i} \\forall i \\in N$. Therefore, the sample space $\\Phi = \\{i;i \\in N\\}$\n",
    "    \n",
    "$P(i) = (5/6)^{i-1} * (1/6) \\implies \\sum_{i \\in N}{P(i)} = \\sum_{i \\in N}{(5/6)^{i-1} * (1/6)} = \\sum_{i \\in N}{(5/6)^{i-1} * (6/5)*(1/6)} = 1/5 \\sum_{i \\in N}{(5/6)^{i}} = 1/5 * ((5/6)/(1-5/6)) = 1/5 * 5 = 1$\n",
    "\n",
    "Therefore, $\\sum_{i \\in N}{P(i)} = 1$\n",
    "</font>"
   ]
  },
  {
   "cell_type": "markdown",
   "metadata": {},
   "source": [
    "# 23\n",
    "<font color='red' size=5>\n",
    "Let $\\Omega$ be the sample space\n",
    "$\\Omega = \\{0, 1, 2, . . .\\} $,\n",
    "and define a distribution function by\n",
    "$m(j) = (1 − r)^{j}r $,\n",
    "for some fixed $r, 0 < r < 1$, and for $j = 0, 1, 2, . . .$. Show that this is a\n",
    "distribution function for $\\Omega$.\n",
    "</font>"
   ]
  },
  {
   "cell_type": "markdown",
   "metadata": {},
   "source": [
    "<font color='green' face='bold' size=5>\n",
    "$m(\\omega)$ will be a distribution function if $\\forall \\omega \\in \\Omega$ ; $0 \\leq m(\\omega) \\leq 1$.\n",
    "    \n",
    "$0 < r < 1 \\implies 0 > -r > -1 \\implies 1 > 1-r > 0 \\implies 1 > (1-r)^{j} > 0 \\implies $    \n",
    "$r > (1-r)^{j}r > 0 \\implies 1 > r > m(\\omega) > 0 \\implies 0 < m(\\omega) < 1 ... (1)$\n",
    "\n",
    "$\\sum_{\\omega \\in \\Omega}{m(\\omega)} = \\sum_{j \\in \\{0,1,2,...\\}}{(1-r)^{j}r} = $\n",
    "\n",
    "\n",
    "$r * (1)/(1-(1-r)) = r * (1/r) = 1 \\implies $\n",
    "\n",
    "$\\sum_{\\omega \\in \\Omega}{m(\\omega)} = 1 ...(2)$\n",
    "\n",
    "By $(1)$ and $(2)$ we can conclude that $m(\\omega)$ is a distribution function\n",
    "\n",
    "</font>"
   ]
  },
  {
   "cell_type": "markdown",
   "metadata": {},
   "source": [
    "# 24\n",
    "<font color='red' size=5>\n",
    "Our calendar has a 400-year cycle. B. H. Brown noticed that the number of\n",
    "times the thirteenth of the month falls on each of the days of the week in the\n",
    "4800 months of a cycle is as follows:\n",
    "    \n",
    "    \n",
    "Sunday 687\n",
    "\n",
    "Monday 685\n",
    "\n",
    "Tuesday 685\n",
    "\n",
    "Wednesday 687\n",
    "\n",
    "Thursday 684\n",
    "\n",
    "Friday 688\n",
    "\n",
    "Saturday 684\n",
    "\n",
    "From this he deduced that the thirteenth was more likely to fall on Friday\n",
    "than on any other day. Explain what he meant by this.\n",
    "</font>"
   ]
  },
  {
   "cell_type": "markdown",
   "metadata": {},
   "source": [
    "<font color='green' face='bold' size=5>\n",
    "If the day on which 13th falls is considered as a random variable then its sample space can be defined as $\\Omega = \\{Mon, Tue, Wed, Thur, Fri, Sat, Sun\\}$\n",
    "    \n",
    "In the observed data, the frequency of observing a $Fri$ is largest, therefore, $Fri$ is the most likely value for the random variable, or in other words the 13th of the month is more likely to fall on friday\n",
    "</font>"
   ]
  },
  {
   "cell_type": "markdown",
   "metadata": {},
   "source": [
    "# 25\n",
    "<font color='red' size=5>\n",
    "Tversky and Kahneman 23 asked a group of subjects to carry out the following\n",
    "task. They are told that:\n",
    "    \n",
    "Linda is 31, single, outspoken, and very bright. She majored in\n",
    "philosophy in college. As a student, she was deeply concerned with\n",
    "racial discrimination and other social issues, and participated in\n",
    "anti-nuclear demonstrations.\n",
    "\n",
    "The subjects are then asked to rank the likelihood of various alternatives, such\n",
    "as:\n",
    "\n",
    "(1) Linda is active in the feminist movement.\n",
    "\n",
    "(2) Linda is a bank teller.\n",
    "\n",
    "(3) Linda is a bank teller and active in the feminist movement.\n",
    "\n",
    "Tversky and Kahneman found that between 85 and 90 percent of the subjects\n",
    "rated alternative (1) most likely, but alternative (3) more likely than alternative (2). Is it? They call this phenomenon the conjunction fallacy, and note\n",
    "that it appears to be unaffected by prior training in probability or statistics.\n",
    "Is this phenomenon a fallacy? If so, why?</font>"
   ]
  },
  {
   "cell_type": "markdown",
   "metadata": {},
   "source": [
    "<font color='green' face='bold' size=5>\n",
    "Let,\n",
    "    \n",
    "$A=$ Linda is a Bank Teller\n",
    "    \n",
    "$B=$ Linda is active in the feminist movement\n",
    "\n",
    "Then, $A \\cap B = $ Linda is a Bank Teller and is active in the feminist movement\n",
    "\n",
    "Since $A \\cap B$ is contained in A, therefore $P(A \\cap B)$ can never be larger than $P(A)$. Therefore, alternative $(3)$ is not more likely than $(2)$, which implies that the phenomenon mentioned in the problem is in fact a fallacy.\n",
    "</font>"
   ]
  },
  {
   "cell_type": "markdown",
   "metadata": {},
   "source": [
    "# 26\n",
    "<font color='red' size=5>\n",
    "Two cards are drawn successively from a deck of 52 cards. Find the probability\n",
    "that the second card is higher in rank than the first card. Hint: Show that 1 =\n",
    "P (higher) + P (lower) + P (same) and use the fact that P (higher) = P (lower).\n",
    "</font>"
   ]
  },
  {
   "cell_type": "markdown",
   "metadata": {},
   "source": [
    "<font color='green' face='bold' size=5>\n",
    "After the first card is drawn, only 51 cards remain in the deck, therefore $P(same) = 3/51$\n",
    "    \n",
    "Since, $P(higher) = P(lower) = p$ and $1 = P(higher) + P(lower) + P(same) \\implies 1 = 2p + 3/51 \\implies p = 24/51$\n",
    "</font>"
   ]
  },
  {
   "cell_type": "markdown",
   "metadata": {},
   "source": [
    "# 27\n",
    "<font color='red' size=5>\n",
    "A life table is a table that lists for a given number of births the estimated\n",
    "number of people who will live to a given age. In Appendix C we give a life\n",
    "table based upon 100,000 births for ages from 0 to 85, both for women and for\n",
    "men. Show how from this table you can estimate the probability m(x) that a\n",
    "person born in 1981 would live to age x. Write a program to plot m(x) both\n",
    "for men and for women, and comment on the differences that you see in the\n",
    "two cases.\n",
    "</font>"
   ]
  },
  {
   "cell_type": "markdown",
   "metadata": {},
   "source": [
    "## skipped for later"
   ]
  },
  {
   "cell_type": "markdown",
   "metadata": {},
   "source": [
    "# 28\n",
    "<font color='red' size=5>\n",
    "Here is an attempt to get around the fact that we cannot choose a “random\n",
    "integer.”\n",
    "</font>"
   ]
  },
  {
   "cell_type": "markdown",
   "metadata": {},
   "source": [
    "### 28.1\n",
    "<font color='red' size=3>\n",
    "What, intuitively, is the probability that a “randomly chosen” positive\n",
    "integer is a multiple of 3?\n",
    "</font>"
   ]
  },
  {
   "cell_type": "markdown",
   "metadata": {},
   "source": [
    "<font color='green' face='bold' size=5>\n",
    "Let the random variable $E$ denote the remainder of a randomly chosen positive integer when divided by 3, then, the sample space $\\Omega$ of $E$ will take values $\\Omega= \\{0, 1, 2\\}$. The randomly chosen integer will be a multiple of 3 if the remained is 0, since every number is equaly likely, the corresponding remainder will also be equally likely. This fact implies that $\\Omega$ follows a uniform distribution. Therefore, $P(0) = 1/3$, or in other words, the probability that a randomly chosen positive integer is a multiple of 3 is 1/3\n",
    "</font>"
   ]
  },
  {
   "cell_type": "markdown",
   "metadata": {},
   "source": [
    "### 28.2\n",
    "<font color='red' size=3>\n",
    "Let $P_{3}(N)$ be the probability that an integer, chosen at random between\n",
    "$1$ and $N$, is a multiple of 3 (since the sample space is finite, this is a\n",
    "legitimate probability). Show that the limit\n",
    "    \n",
    "$P_{3} = \\lim_{N \\to \\infty} P_{3}(N)$\n",
    "\n",
    "exists and equals 1/3. This formalizes the intuition in (a), and gives us\n",
    "a way to assign “probabilities” to certain events that are infinite subsets\n",
    "of the positive integers.\n",
    "</font>"
   ]
  },
  {
   "cell_type": "markdown",
   "metadata": {},
   "source": [
    "<font color='green' face='bold' size=5>\n",
    "Let $N = 3q + r$, where $q, r$ are integers; $1 \\leq q \\leq ceil(N/3)$ and $0 \\leq r \\leq 2$. Observe that there are only q multiples of 3 from 1 to $3q + r$. Therefore $P_{3}(N) = q \\over (3q+r)$, and since $N \\to \\infty \\implies q \\to \\infty$\n",
    "    \n",
    "$P_{3}(N) = \\lim_{N \\to \\infty}{q \\over (3q+r)} = \\lim_{q \\to \\infty}{q \\over (3q+r)} = 1/3$\n",
    "</font>"
   ]
  },
  {
   "cell_type": "markdown",
   "metadata": {},
   "source": [
    "### 28.3\n",
    "<font color='red' size=3>\n",
    "If A is any set of positive integers, let A(N ) mean the number of elements\n",
    "of A which are less than or equal to N . Then define the “probability” of\n",
    "A as\n",
    "    \n",
    "$P(A) = \\lim_{N \\to \\infty}{A(N) \\over N }$\n",
    "    \n",
    "provided this limit exists. Show that this definition would assign prob-\n",
    "ability 0 to any finite set and probability 1 to the set of all positive\n",
    "integers. Thus, the probability of the set of all integers is not the sum of\n",
    "the probabilities of the individual integers in this set. This means that\n",
    "the definition of probability given here is not a completely satisfactory\n",
    "definition.\n",
    "</font>"
   ]
  },
  {
   "cell_type": "markdown",
   "metadata": {},
   "source": [
    "<font color='green' face='bold' size=5>\n",
    "Since $A$ is a set of positive integers, it is easy to observe that $A(N) \\leq N \\leq C(A)$, where $C(A)$ means the number of elements in A.\n",
    "    \n",
    "Therefore,\n",
    "$P(A) = \\lim_{N \\to \\infty}{A(N) \\over N} \\leq \\lim_{N \\to \\infty}{C(A) \\over N}$.\n",
    "\n",
    "\n",
    "If $A$ if finite $C(A)$ will be finite number $\\implies \\lim_{N \\to \\infty}{C(A) \\over N} \\to 0$\n",
    "\n",
    "If $A$ is the set of all positive integers then, $A(N) = N \\implies \\lim_{N \\to \\infty}{A(N) \\over N} \\to 1$\n",
    "\n",
    "</font>"
   ]
  },
  {
   "cell_type": "markdown",
   "metadata": {},
   "source": [
    "### 28.4\n",
    "<font color='red' size=3>\n",
    "Let A be the set of all positive integers with an odd number of dig-\n",
    "its. Show that P (A) does not exist. This shows that under the above\n",
    "definition of probability, not all sets have probabilities.\n",
    "</font>"
   ]
  },
  {
   "cell_type": "markdown",
   "metadata": {},
   "source": [
    "## Skipped for later"
   ]
  },
  {
   "cell_type": "markdown",
   "metadata": {},
   "source": [
    "# 29\n",
    "<font color='red' size=5>\n",
    "(from Sholander 24 ) In a standard clover-leaf interchange, there are four ramps\n",
    "for making right-hand turns, and inside these four ramps, there are four more\n",
    "ramps for making left-hand turns. Your car approaches the interchange from\n",
    "the south. A mechanism has been installed so that at each point where there\n",
    "exists a choice of directions, the car turns to the right with fixed probability r.\n",
    "</font>"
   ]
  },
  {
   "cell_type": "markdown",
   "metadata": {},
   "source": [
    "## skipped for later"
   ]
  },
  {
   "cell_type": "markdown",
   "metadata": {},
   "source": [
    "# 30\n",
    "<font color='red' size=5>\n",
    "(from Benkoski 25 ) Consider a “pure” cloverleaf interchange in which there\n",
    "are no ramps for right-hand turns, but only the two intersecting straight\n",
    "highways with cloverleaves for left-hand turns. (Thus, to turn right in such\n",
    "an interchange, one must make three left-hand turns.) As in the preceding\n",
    "problem, your car approaches the interchange from the south. What is the\n",
    "value of r that maximizes your chances of an eastward departure from the\n",
    "interchange?\n",
    "</font>"
   ]
  },
  {
   "cell_type": "markdown",
   "metadata": {},
   "source": [
    "## skipped for later"
   ]
  },
  {
   "cell_type": "markdown",
   "metadata": {},
   "source": [
    "# 31\n",
    "<font color='red' size=5>\n",
    "(from vos Savant 26 ) A reader of Marilyn vos Savant’s column wrote in with\n",
    "the following question:\n",
    "My dad heard this story on the radio. At Duke University, two\n",
    "students had received A’s in chemistry all semester. But on the\n",
    "night before the final exam, they were partying in another state\n",
    "and didn’t get back to Duke until it was over. Their excuse to the\n",
    "professor was that they had a flat tire, and they asked if they could\n",
    "take a make-up test. The professor agreed, wrote out a test and sent\n",
    "the two to separate rooms to take it. The first question (on one side\n",
    "of the paper) was worth 5 points, and they answered it easily. Then\n",
    "they flipped the paper over and found the second question, worth\n",
    "95 points: ‘Which tire was it?’ What was the probability that both\n",
    "students would say the same thing? My dad and I think it’s 1 in\n",
    "16. Is that right?”\n",
    "</font>"
   ]
  },
  {
   "cell_type": "markdown",
   "metadata": {},
   "source": [
    "### 31.1\n",
    "<font color='red' size=3>\n",
    "Is the answer 1/16?\n",
    "</font>"
   ]
  },
  {
   "cell_type": "markdown",
   "metadata": {},
   "source": [
    "<font color='green' face='bold' size=5>\n",
    "Let $S1$ be the random variable denoting the tire chosen by student 1\n",
    "    \n",
    "Let $S2$ be the random variable denoting the tire chosen by student 2\n",
    "\n",
    "The sample spaces of both $S1, S2$ will be $\\Omega = \\{FL, FR, BL, BR\\}$ for each tire, and the distribution function for both the random variables will be uniform.\n",
    "\n",
    "$P(S1=x, S2=x) = P(S1=x) P(S2=x)= $ $1 \\over 4$ * $ 1\\over4$ $=$ $1 \\over 16 $, where $x \\in \\Omega$\n",
    "\n",
    "The probability that both the students say same thing will be the probability that both the students say eighter of $FL, FR, BL, BR$ together = $4 * P(S1=x, S2=x) = $ $1 \\over 4$.\n",
    "\n",
    "</font>"
   ]
  },
  {
   "cell_type": "markdown",
   "metadata": {},
   "source": [
    "### 31.2\n",
    "<font color='red' size=3>\n",
    "The following question was asked of a class of students. “I was driving\n",
    "to school today, and one of my tires went flat. Which tire do you think\n",
    "it was?” The responses were as follows: right front, 58%, left front, 11%,\n",
    "right rear, 18%, left rear, 13%. Suppose that this distribution holds in\n",
    "the general population, and assume that the two test-takers are randomly\n",
    "chosen from the general population. What is the probability that they\n",
    "will give the same answer to the second question?\n",
    "</font>"
   ]
  },
  {
   "cell_type": "markdown",
   "metadata": {},
   "source": [
    "<font color='green' face='bold' size=5>\n",
    "The only difference between this and the previous question is the distribution of the random variables, in this part the distribution is not uniform.\n",
    "The distribution function $m$ is defined as follows:\n",
    "    \n",
    "$$ m(x) = \\left\\{\n",
    "\t\\begin{array}{ll}\n",
    "\t\t0.58 & \\mbox{if } x = FR \\\\\n",
    "        0.11 & \\mbox{if } x = FL \\\\\n",
    "        0.18 & \\mbox{if } x = BR \\\\\n",
    "        0.13 & \\mbox{if } x = BL \\\\\n",
    "\t\\end{array}\n",
    "\\right.\n",
    "$$\n",
    "\n",
    "$$ P(S1=x, S2=x) = P(S1=x) P(S2=x) = \\left\\{\n",
    "\t\\begin{array}{ll}\n",
    "\t\t0.58^2 & \\mbox{if } x = FR \\\\\n",
    "        0.11^2 & \\mbox{if } x = FL \\\\\n",
    "        0.18^2 & \\mbox{if } x = BR \\\\\n",
    "        0.13^2 & \\mbox{if } x = BL \\\\\n",
    "\t\\end{array}\n",
    "\\right.\n",
    "$$\n",
    "\n",
    "The probability that both students write the same tire $= 0.58^2 + 0.11 ^2 + 0.18^2 + 0.13^2 = 0.3978$\n",
    "\n",
    "    \n",
    "    \n",
    "</font>"
   ]
  }
 ],
 "metadata": {
  "kernelspec": {
   "display_name": "probability",
   "language": "python",
   "name": "probability"
  },
  "language_info": {
   "codemirror_mode": {
    "name": "ipython",
    "version": 3
   },
   "file_extension": ".py",
   "mimetype": "text/x-python",
   "name": "python",
   "nbconvert_exporter": "python",
   "pygments_lexer": "ipython3",
   "version": "3.6.9"
  }
 },
 "nbformat": 4,
 "nbformat_minor": 2
}
