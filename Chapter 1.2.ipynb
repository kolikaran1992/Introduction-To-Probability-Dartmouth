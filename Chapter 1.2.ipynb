{
 "cells": [
  {
   "cell_type": "code",
   "execution_count": 1,
   "metadata": {},
   "outputs": [],
   "source": [
    "%load_ext autoreload\n",
    "%autoreload 2"
   ]
  },
  {
   "cell_type": "code",
   "execution_count": 3,
   "metadata": {},
   "outputs": [],
   "source": [
    "from itertools import combinations\n",
    "import numpy as np\n",
    "np.random.seed(37)\n",
    "%matplotlib inline"
   ]
  },
  {
   "cell_type": "code",
   "execution_count": 4,
   "metadata": {},
   "outputs": [],
   "source": [
    "from utils import *"
   ]
  },
  {
   "cell_type": "markdown",
   "metadata": {},
   "source": [
    "# 1\n",
    "<font color='red' size=5>\n",
    "Let Ω = {a, b, c} be a sample space. Let m(a) = 1/2, m(b) = 1/3, and\n",
    "m(c) = 1/6. Find the probabilities for all eight subsets of Ω.</font>"
   ]
  },
  {
   "cell_type": "code",
   "execution_count": 5,
   "metadata": {},
   "outputs": [
    {
     "name": "stdout",
     "output_type": "stream",
     "text": [
      "P([a]) = 0.5\n",
      "P([b]) = 0.3\n",
      "P([c]) = 0.2\n",
      "P([a,b]) = 0.8\n",
      "P([a,c]) = 0.7\n",
      "P([b,c]) = 0.5\n",
      "P([a,b,c]) = 1.0\n"
     ]
    }
   ],
   "source": [
    "def e1():\n",
    "    m = {'a': 1/2, 'b':1/3, 'c':1/6}\n",
    "    all_subsets = [item for i in range(1,4,1) for item in combinations(['a', 'b', 'c'], i)]\n",
    "    for subset in all_subsets:\n",
    "        p = sum([m[event] for event in subset])\n",
    "        print('P([{}]) = {:.1f}'.format(','.join(subset), p))\n",
    "e1()"
   ]
  },
  {
   "cell_type": "markdown",
   "metadata": {},
   "source": [
    "<font color='green' face='bold' size=5>\n",
    "The probability of a subset $X$ is $\\sum_{e} m(e); e \\in X$ where $m$ is the distribution function\n",
    "</font>"
   ]
  },
  {
   "cell_type": "markdown",
   "metadata": {},
   "source": [
    "# 2 and 3\n",
    "<font color='red' size=5>\n",
    "Give a possible sample space Ω for each of the following experiments. For which of the cases in Exercise 2 would it be reasonable to assign the\n",
    "uniform distribution function?\n",
    "</font>"
   ]
  },
  {
   "cell_type": "markdown",
   "metadata": {},
   "source": [
    "Let $\\Phi$ denote the sample space for all of the examples"
   ]
  },
  {
   "cell_type": "markdown",
   "metadata": {},
   "source": [
    "### 2.1 and 3.1\n",
    "<font color='red' size=3>\n",
    "An election decides between two candidates A and B.\n",
    "</font>"
   ]
  },
  {
   "cell_type": "markdown",
   "metadata": {},
   "source": [
    "<font color='green' face='bold' size=5>\n",
    "There are only two events, $A$ denoting candidate A wins and $B$ denoting candidate B wins. Therefore, $\\Phi = \\{A, B\\}$\n",
    "</font>"
   ]
  },
  {
   "cell_type": "markdown",
   "metadata": {},
   "source": [
    "<font color='green' face='bold' size=5>\n",
    "Since candidates in an election are seldom equally likely to win, Therefore it would not be reasonable to assign a uniform distribution to $\\Phi$\n",
    "</font>"
   ]
  },
  {
   "cell_type": "markdown",
   "metadata": {},
   "source": [
    "### 2.2 and 3.2\n",
    "<font color='red' size=3>\n",
    "A two-sided coin is tossed.\n",
    "</font>"
   ]
  },
  {
   "cell_type": "markdown",
   "metadata": {},
   "source": [
    "<font color='green' face='bold' size=5>\n",
    "There are only two events:\n",
    "    <li>$H$ : heads side is up after tossing the coin </li>\n",
    "    <li>$T$ : tails side is up after tossing the coin </li>\n",
    "Therefore $\\Phi = \\{H,T\\}$\n",
    "</font>"
   ]
  },
  {
   "cell_type": "markdown",
   "metadata": {},
   "source": [
    "<font color='green' face='bold' size=5>\n",
    "In afair coin toss both sides are equally likely, therefore $\\Phi$ can be assigned a uniform distribution.\n",
    "</font>"
   ]
  },
  {
   "cell_type": "markdown",
   "metadata": {},
   "source": [
    "### 2.3 and 3.3\n",
    "<font color='red' size=3>\n",
    "A student is asked for the month of the year and the day of the week on\n",
    "which her birthday falls.\n",
    "</font>"
   ]
  },
  {
   "cell_type": "markdown",
   "metadata": {},
   "source": [
    "<font color='green' face='bold' size=5>\n",
    "The outcome can be mapped by the combination of outcomes of 2 random variables:\n",
    "    <li>$M$ : $\\{i ; i \\in [1,12], i \\in integers \\}$</li>\n",
    "    <li>$W$ : $\\{j ; j \\in [1,7], j \\in integers \\}$</li>\n",
    "The outcome $\\Phi$ will be $\\{(i,j); i \\in [1,12], j \\in [1,7] | i,j \\in integers\\}$, and it will have $12 * 7 = 84$ possible outcomes, where $(i,j)$ is an ordered pair \n",
    "</font>"
   ]
  },
  {
   "cell_type": "markdown",
   "metadata": {},
   "source": [
    "<h4 align=\"center\">  The number of births for each month of 2006</h4>\n",
    "\n",
    "![The number of births for each month of 2006. (Image credit: CDC.)](https://cdn.mos.cms.futurecdn.net/VKfFoVGPD26BebNmxsBWF3-650-80.jpg)\n",
    "\n",
    "<h7 align=\"center\">credit: https://www.livescience.com/32728-baby-month-is-almost-here-.html</h7>\n"
   ]
  },
  {
   "cell_type": "markdown",
   "metadata": {},
   "source": [
    "\n",
    "<font color='green' face='bold' size=5>\n",
    "The number of births in the image above is not the same for each month, it shows that birthdays are uniformly distributed for each month. Therefore $\\Phi$ can not be assigned a uniform distribution.\n",
    "</font>"
   ]
  },
  {
   "cell_type": "markdown",
   "metadata": {},
   "source": [
    "### 2.4 and 3.4\n",
    "<font color='red' size=3>\n",
    "A student is chosen at random from a class of ten students\n",
    "</font>"
   ]
  },
  {
   "cell_type": "markdown",
   "metadata": {},
   "source": [
    "<font color='green' face='bold' size=5>\n",
    "The outcome $\\Phi$ will be $\\{i; i \\in [1,10] | i \\in integers\\}$\n",
    "</font>"
   ]
  },
  {
   "cell_type": "markdown",
   "metadata": {},
   "source": [
    "<font color='green' face='bold' size=5>\n",
    "Since the students are chosen at random, every student is equaly likely to be chosen. Therefore, $\\Phi$ can be assigned a uniform distribution.\n",
    "</font>"
   ]
  },
  {
   "cell_type": "markdown",
   "metadata": {},
   "source": [
    "### 2.5 and 3.5\n",
    "<font color='red' size=3>\n",
    "You receive a grade in this course.\n",
    "</font>"
   ]
  },
  {
   "cell_type": "markdown",
   "metadata": {},
   "source": [
    "<font color='green' face='bold' size=5>\n",
    "The outcome $\\Phi$ will be $\\{A+, A, B+, B, C+, C, D\\}$\n",
    "</font>"
   ]
  },
  {
   "cell_type": "markdown",
   "metadata": {},
   "source": [
    "<font color='green' face='bold' size=5>\n",
    "There can not be a case, where a student studies rigrously and gets a D (it will be very rare if this happens). This shows that the grades have an underlying cause and will not be random. A student studying more is more likely to get a good grade. Therefore, the grade that a student gets in this course can not be assigned a uniform distribution.\n",
    "</font>"
   ]
  },
  {
   "cell_type": "markdown",
   "metadata": {},
   "source": [
    "# 4 and 5\n",
    "<font color='red' size=5>\n",
    "Describe in words the events specified by the following subsets of\n",
    "Ω = {HHH, HHT, HT H, HT T, T HH, T HT, T T H, T T T }. Find their probabilities.</font>"
   ]
  },
  {
   "cell_type": "markdown",
   "metadata": {},
   "source": [
    "### 4.1 and 5.1\n",
    "<font color='red' size=3>\n",
    "E = {HHH,HHT,HTH,HTT}\n",
    "</font>"
   ]
  },
  {
   "cell_type": "markdown",
   "metadata": {},
   "source": [
    "<font color='green' face='bold' size=5>\n",
    "Getting heads on the first toss. $P(E) =$ 4/8 = 0.5\n",
    "</font>"
   ]
  },
  {
   "cell_type": "markdown",
   "metadata": {},
   "source": [
    "### 4.2 and 5.2\n",
    "<font color='red' size=3>\n",
    "E = {HHH,TTT}\n",
    "</font>"
   ]
  },
  {
   "cell_type": "markdown",
   "metadata": {},
   "source": [
    "<font color='green' face='bold' size=5>\n",
    "Getting same face on all coins. $P(E) = 2/8 = 0.25$\n",
    "</font>"
   ]
  },
  {
   "cell_type": "markdown",
   "metadata": {},
   "source": [
    "### 4.3\n",
    "<font color='red' size=3>\n",
    "E = {HHT,HTH,THH}\n",
    "</font>"
   ]
  },
  {
   "cell_type": "markdown",
   "metadata": {},
   "source": [
    "<font color='green' face='bold' size=5>\n",
    "Getting only one tails. $P(E) =$ 3/8 = 0.375\n",
    "</font>"
   ]
  },
  {
   "cell_type": "markdown",
   "metadata": {},
   "source": [
    "### 4.3\n",
    "<font color='red' size=3>\n",
    "E = {HHT,HTH,HTT,THH,THT,TTH,TTT}\n",
    "</font>"
   ]
  },
  {
   "cell_type": "markdown",
   "metadata": {},
   "source": [
    "<font color='green' face='bold' size=5>\n",
    "Getting at least one tails. $P(E) =$ 7/8 = 0.875\n",
    "</font>"
   ]
  },
  {
   "cell_type": "markdown",
   "metadata": {},
   "source": [
    "# 6\n",
    "<font color='red' size=5>\n",
    "A die is loaded in such a way that the probability of each face turning up\n",
    "is proportional to the number of dots on that face. (For example, a six is\n",
    "three times as probable as a two.) What is the probability of getting an even\n",
    "number in one throw?\n",
    "</font>"
   ]
  },
  {
   "cell_type": "markdown",
   "metadata": {},
   "source": [
    "<font color='green' face='bold' size=5>\n",
    "Let $m$ be the distribution function. \n",
    "    \n",
    "From the explanation $m$ can be defined as, $m(i) = i*p; i \\in \\{1,2,3,4,5,6\\}$, where $p =$ probability of getting a 1 on the die.\n",
    "\n",
    "Since, $\\sum_{i \\in \\{1,2,3,4,5,6\\}}{m(i)} = 1$. Therefore, $p*\\sum_{i \\in \\{1,2,3,4,5,6\\}}{i} = 1 \\implies p = 1/21$\n",
    "\n",
    "Let $E$ be the event defined as getting even number in one throw. Therefore $P(E) = \\sum_{i \\in \\{2,4,6\\}}{m(i)}$\n",
    "\n",
    "$\\implies P(E) =$ (1/21) * (2+4+6) = 12/21 \n",
    "</font>"
   ]
  },
  {
   "cell_type": "markdown",
   "metadata": {},
   "source": [
    "# 7\n",
    "<font color='red' size=5>\n",
    "Let A and B be events such that P (A ∩ B) = 1/4, P ( Ã) = 1/3, and P (B) =\n",
    "1/2. What is P (A ∪ B)?\n",
    "</font>"
   ]
  },
  {
   "cell_type": "markdown",
   "metadata": {},
   "source": [
    "<font color='green' face='bold' size=5>\n",
    "$P(\\widetilde{A}) = 1/3 \\implies P(A) = 2/3$\n",
    "\n",
    "$P(A \\cup B) = P(A) + P(B) - P(A \\cap B) = 2/3 + 1/2 - 1/4 = 11/12$\n",
    "</font>"
   ]
  },
  {
   "cell_type": "markdown",
   "metadata": {},
   "source": [
    "# 8\n",
    "<font color='red' size=5>\n",
    "A student must choose one of the subjects, art, geology, or psychology, as an\n",
    "elective. She is equally likely to choose art or psychology and twice as likely\n",
    "to choose geology. What are the respective probabilities that she chooses art,\n",
    "geology, and psychology?\n",
    "</font>"
   ]
  },
  {
   "cell_type": "markdown",
   "metadata": {},
   "source": [
    "<font color='green' face='bold' size=5>\n",
    "A = art, P = psychology, G = geology\n",
    "    \n",
    "Let $\\Phi$ be the sample space. Then $\\Phi = \\{A, P, G\\}$.\n",
    "\n",
    "$P(A) = P(P) = p \\implies P(G) = 2*p$\n",
    "\n",
    "$\\sum_{e \\in \\{A, P, G\\}}{P(e)} = 1 \\implies p + p + 2p = 1 \\implies p = 1/4 $\n",
    "    \n",
    "$P(P) = 1/4, P(A) = 1/4$ and $P(G) = 1/2$\n",
    "</font>"
   ]
  },
  {
   "cell_type": "markdown",
   "metadata": {},
   "source": [
    "# 9\n",
    "<font color='red' size=5>\n",
    "A student must choose exactly two out of three electives: art, French, and\n",
    "mathematics. He chooses art with probability 5/8, French with probability\n",
    "5/8, and art and French together with probability 1/4. What is the probability\n",
    "that he chooses mathematics? What is the probability that he chooses either\n",
    "art or French?\n",
    "</font>"
   ]
  },
  {
   "cell_type": "markdown",
   "metadata": {},
   "source": [
    "<font color='green' face='bold' size=5>\n",
    "A = art, F = French, M = Maths.\n",
    "      \n",
    "Let $\\Phi$ be the sample space. Then $\\Phi = \\{AF, AM, FM\\}$. Where $ij; i,j \\in \\{A, F, M\\}$ denotes $i$ together with $j$.\n",
    "    \n",
    "Let $E$ represent the event of choosing maths, this will be same as choosing one of the subject as maths. Therefore, $E = \\{FM, AM\\}$. $P(E) = 1 - P(AF) = 1 - 1/4 = 3/4$.\n",
    "\n",
    "$P($either art or French$) = P(A \\cup F) = P(A) + P(F) - P(A \\cap F) = 5/8 + 5/8 - 1/4 = 4/4 = 1$\n",
    "</font>"
   ]
  },
  {
   "cell_type": "markdown",
   "metadata": {},
   "source": [
    "# 10\n",
    "<font color='red' size=5>\n",
    "For a bill to come before the president of the United States, it must be passed\n",
    "by both the House of Representatives and the Senate. Assume that, of the\n",
    "bills presented to these two bodies, 60 percent pass the House, 80 percent\n",
    "pass the Senate, and 90 percent pass at least one of the two. Calculate the\n",
    "probability that the next bill presented to the two groups will come before the\n",
    "president.\n",
    "</font>"
   ]
  },
  {
   "cell_type": "markdown",
   "metadata": {},
   "source": [
    "<font color='green' face='bold' size=5>\n",
    "Let $A$ denote the event representing successful passing of the bill from the House\n",
    "    \n",
    "Let $B$ denote the event representing successful passing of the bill from the Senate\n",
    "\n",
    "$P(A) = 0.6, P(B) = 0.8$ and $P(A \\cup B) = 0.9$\n",
    "\n",
    "The bill is presented to the president if it passes from both the bodies. For this to happen events $A$ and $B$ must occur simultaneously.\n",
    "\n",
    "$P(A \\cup B) = P(A) + P(B) - P(A \\cap B) \\implies P(A \\cap B) = P(A) + P(B) - P(A \\cup B)$\n",
    "\n",
    "$P(A \\cap B) = 0.6 + 0.8 - 0.9 = 0.5$\n",
    "\n",
    "Therefore, a bill is presented to the president 50% of the times.\n",
    "</font>"
   ]
  }
 ],
 "metadata": {
  "kernelspec": {
   "display_name": "probability",
   "language": "python",
   "name": "probability"
  }
 },
 "nbformat": 4,
 "nbformat_minor": 2
}
